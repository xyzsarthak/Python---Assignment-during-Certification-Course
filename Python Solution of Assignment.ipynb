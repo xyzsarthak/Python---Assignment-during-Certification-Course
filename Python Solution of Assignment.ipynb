{
 "cells": [
  {
   "cell_type": "code",
   "execution_count": null,
   "id": "292d5dc6",
   "metadata": {},
   "outputs": [
    {
     "name": "stdout",
     "output_type": "stream",
     "text": [
      "Your name is Sarthak Singh\n"
     ]
    }
   ],
   "source": [
    "#1\n",
    "\n",
    "name=input(\"Enter your name\")\n",
    "print(f\"Your name is {name}\")"
   ]
  },
  {
   "cell_type": "code",
   "execution_count": null,
   "id": "76fd8d9b",
   "metadata": {},
   "outputs": [],
   "source": [
    "#2\n",
    "#single line comments are the annotations which does not execute during the output.It is initiated by a #.\n"
   ]
  },
  {
   "cell_type": "code",
   "execution_count": null,
   "id": "5624cf4a",
   "metadata": {},
   "outputs": [
    {
     "data": {
      "text/plain": [
       "'Hello , my\\nname is sarthak'"
      ]
     },
     "execution_count": 2,
     "metadata": {},
     "output_type": "execute_result"
    }
   ],
   "source": [
    "#3\n",
    "### multiline comments  in python are represented in multiple lines. It is started and ended by triple quotes.\n",
    "\"\"\"Hello , my\n",
    "name is sarthak\"\"\"\n"
   ]
  },
  {
   "cell_type": "code",
   "execution_count": 3,
   "id": "61827062",
   "metadata": {},
   "outputs": [
    {
     "name": "stdout",
     "output_type": "stream",
     "text": [
      "2 is greater than 1\n"
     ]
    }
   ],
   "source": [
    "#4\n",
    "\n",
    "##Indentation in Python is a method to execute sequence of codes.In example print statement is induntated.\n",
    "if 2>1:\n",
    "    print (\"2 is greater than 1\")"
   ]
  },
  {
   "cell_type": "code",
   "execution_count": null,
   "id": "fcfb0ce7",
   "metadata": {},
   "outputs": [
    {
     "name": "stdout",
     "output_type": "stream",
     "text": [
      "1\n"
     ]
    }
   ],
   "source": [
    "#5 and 6 Variables in python should not have  number, characters in beginning .Although,it can be in between or end.\n",
    "\n",
    "# Incorrect example of invalid variables.\n",
    "'''9sart=1\n",
    "print(9sart)'''\n",
    "\n",
    "#Correct Example of valid variables.\n",
    "\n",
    "sart9=1\n",
    "print(sart9)\n",
    "\n"
   ]
  },
  {
   "cell_type": "code",
   "execution_count": null,
   "id": "6772e234",
   "metadata": {},
   "outputs": [],
   "source": [
    "#7 Constants in python are universal values generally denoted in capital letters.\n",
    "\n",
    "PIE=3.14\n",
    "GRAVITY=9.8\n",
    "\n",
    "\n",
    "\n",
    "\n"
   ]
  },
  {
   "cell_type": "code",
   "execution_count": 9,
   "id": "1ffd2f94",
   "metadata": {},
   "outputs": [
    {
     "name": "stdout",
     "output_type": "stream",
     "text": [
      "CASE SENSITIVE\n"
     ]
    }
   ],
   "source": [
    "#8 Yes, python is a case sensitive language.\n",
    "\n",
    "print(\"CASE SENSITIVE\")\n",
    " # PRINT(\"case sensitive\") Here, print function does not work in capital letters."
   ]
  },
  {
   "cell_type": "code",
   "execution_count": null,
   "id": "ed7eefe2",
   "metadata": {},
   "outputs": [],
   "source": [
    "#9 reserved keywords in python are keywords used in functioning of python. If they are used as variables , it may not differentiate between them and throw an error .\n",
    "# List is a class function also to convert things to list. so it should not be used as variables .\n",
    "\n"
   ]
  },
  {
   "cell_type": "code",
   "execution_count": 11,
   "id": "6526ad6d",
   "metadata": {},
   "outputs": [
    {
     "data": {
      "text/plain": [
       "'This is an example of string'"
      ]
     },
     "execution_count": 11,
     "metadata": {},
     "output_type": "execute_result"
    }
   ],
   "source": [
    "#10 String is a class in python which takes input in alphabetical structure. It is defined in double quotes\n",
    "\n",
    "a=\"This is an example of string\"\n",
    "a"
   ]
  },
  {
   "cell_type": "code",
   "execution_count": null,
   "id": "ef4e8efc",
   "metadata": {},
   "outputs": [],
   "source": [
    "#11 Single and double quotes in python takes string wheres as triple quotes takes multiline strings or comments.\n"
   ]
  },
  {
   "cell_type": "code",
   "execution_count": 14,
   "id": "60cc3d9b",
   "metadata": {},
   "outputs": [
    {
     "data": {
      "text/plain": [
       "'n'"
      ]
     },
     "execution_count": 14,
     "metadata": {},
     "output_type": "execute_result"
    }
   ],
   "source": [
    "#12 single characters in a string can be accessed through indexing.\n",
    "\n",
    "ind=\"python\"\n",
    "ind[1] # positive indexing\n",
    "ind[-1] #negative indexing\n",
    "\n"
   ]
  },
  {
   "cell_type": "code",
   "execution_count": 16,
   "id": "862b84ea",
   "metadata": {},
   "outputs": [
    {
     "data": {
      "text/plain": [
       "'I am d'"
      ]
     },
     "execution_count": 16,
     "metadata": {},
     "output_type": "execute_result"
    }
   ],
   "source": [
    "#13 Slicing in python extracts required values(string) from a large string.\n",
    "\n",
    "m=\"I am doing python assignemnt.\"\n",
    "m[0:6]"
   ]
  },
  {
   "cell_type": "code",
   "execution_count": 19,
   "id": "1d3c9fbd",
   "metadata": {},
   "outputs": [
    {
     "data": {
      "text/plain": [
       "'Sarthak Singh'"
      ]
     },
     "execution_count": 19,
     "metadata": {},
     "output_type": "execute_result"
    }
   ],
   "source": [
    "#14 2 strings can be concatened using + sign\n",
    "n=\"Sarthak\"+\" \"+\"Singh\"\n",
    "n\n"
   ]
  },
  {
   "cell_type": "code",
   "execution_count": null,
   "id": "ee2ffa41",
   "metadata": {},
   "outputs": [
    {
     "name": "stdout",
     "output_type": "stream",
     "text": [
      "HeyHeyHey\n"
     ]
    }
   ],
   "source": [
    "#15 String Repetition\n",
    "p=\"Hey\"\n",
    "print(p*3)\n"
   ]
  },
  {
   "cell_type": "code",
   "execution_count": null,
   "id": "33793d8d",
   "metadata": {},
   "outputs": [
    {
     "data": {
      "text/plain": [
       "True"
      ]
     },
     "execution_count": 21,
     "metadata": {},
     "output_type": "execute_result"
    }
   ],
   "source": [
    "#16 \n",
    "\"am\" in m"
   ]
  },
  {
   "cell_type": "code",
   "execution_count": null,
   "id": "6adcc244",
   "metadata": {},
   "outputs": [
    {
     "data": {
      "text/plain": [
       "29"
      ]
     },
     "execution_count": 22,
     "metadata": {},
     "output_type": "execute_result"
    }
   ],
   "source": [
    "#17 Length of a string can be get through len function.\n",
    "\n",
    "len(m)\n",
    "\n"
   ]
  },
  {
   "cell_type": "code",
   "execution_count": 77,
   "id": "9b8f3f6c",
   "metadata": {},
   "outputs": [],
   "source": [
    "#18 Comparison of strings\n",
    "\n",
    "# Strings can be compared in Python using <,>,== operators.\n",
    "\n",
    "str4=\"sarthak\"\n",
    "str1=\"SARTHAK\"\n",
    "\n",
    "if str==str1:\n",
    "    print(\"matched\")\n",
    "\n",
    "\n",
    "\n",
    "\n"
   ]
  },
  {
   "cell_type": "code",
   "execution_count": 2,
   "id": "1bb6f848",
   "metadata": {},
   "outputs": [
    {
     "name": "stdout",
     "output_type": "stream",
     "text": [
      "2 is less than 3\n"
     ]
    }
   ],
   "source": [
    "#18\n",
    "if 2>3:\n",
    "    print(\"2 is greater than 3.\")\n",
    "else:\n",
    "    print(\"2 is less than 3\")"
   ]
  },
  {
   "cell_type": "code",
   "execution_count": 23,
   "id": "be9be940",
   "metadata": {},
   "outputs": [
    {
     "data": {
      "text/plain": [
       "'hey'"
      ]
     },
     "execution_count": 23,
     "metadata": {},
     "output_type": "execute_result"
    }
   ],
   "source": [
    "#19 strip method removes spaces in python\n",
    "q=\"  hey \"\n",
    "q.strip()\n",
    "\n",
    "\n"
   ]
  },
  {
   "cell_type": "code",
   "execution_count": null,
   "id": "74a6377f",
   "metadata": {},
   "outputs": [],
   "source": []
  },
  {
   "cell_type": "code",
   "execution_count": 10,
   "id": "41b6617a",
   "metadata": {},
   "outputs": [
    {
     "data": {
      "text/plain": [
       "['hello', 'friend,', 'how', 'are', 'you?']"
      ]
     },
     "execution_count": 10,
     "metadata": {},
     "output_type": "execute_result"
    }
   ],
   "source": [
    "#20\n",
    "u=\"hello friend, how are you?\"\n",
    "u.split()\n"
   ]
  },
  {
   "cell_type": "code",
   "execution_count": 13,
   "id": "1a021bba",
   "metadata": {},
   "outputs": [
    {
     "data": {
      "text/plain": [
       "4"
      ]
     },
     "execution_count": 13,
     "metadata": {},
     "output_type": "execute_result"
    }
   ],
   "source": [
    "#21\n",
    "l=\"hello\"\n",
    "l.find(\"o\")\n"
   ]
  },
  {
   "cell_type": "code",
   "execution_count": null,
   "id": "b603bd39",
   "metadata": {},
   "outputs": [
    {
     "data": {
      "text/plain": [
       "'Python is getting boring day by day.'"
      ]
     },
     "execution_count": 17,
     "metadata": {},
     "output_type": "execute_result"
    }
   ],
   "source": [
    "#22 replace\n",
    "\n",
    "rep=\"python is getting interesting day by day.\"\n",
    "rep.replace(\"interesting\",\"boring\")"
   ]
  },
  {
   "cell_type": "code",
   "execution_count": 18,
   "id": "799caddd",
   "metadata": {},
   "outputs": [
    {
     "data": {
      "text/plain": [
       "'python is getting interesting day by day.'"
      ]
     },
     "execution_count": 18,
     "metadata": {},
     "output_type": "execute_result"
    }
   ],
   "source": [
    "#23\n",
    "rep.upper()\n",
    "rep.lower()"
   ]
  },
  {
   "cell_type": "code",
   "execution_count": 25,
   "id": "31938916",
   "metadata": {},
   "outputs": [
    {
     "data": {
      "text/plain": [
       "False"
      ]
     },
     "execution_count": 25,
     "metadata": {},
     "output_type": "execute_result"
    }
   ],
   "source": [
    "#24\n",
    "rep.startswith(\"Python\")\n",
    "rep.startswith(\"I\")"
   ]
  },
  {
   "cell_type": "code",
   "execution_count": 34,
   "id": "1f8fc114",
   "metadata": {},
   "outputs": [
    {
     "data": {
      "text/plain": [
       "'P,y,t,h,o,n, ,i,s, ,g,e,t,t,i,n,g, ,i,n,t,e,r,e,s,t,i,n,g, ,d,a,y, ,b,y, ,d,a,y,.'"
      ]
     },
     "execution_count": 34,
     "metadata": {},
     "output_type": "execute_result"
    }
   ],
   "source": [
    "#25\n",
    "\",\".join(rep)"
   ]
  },
  {
   "cell_type": "code",
   "execution_count": null,
   "id": "eef81a74",
   "metadata": {},
   "outputs": [
    {
     "data": {
      "text/plain": [
       "2"
      ]
     },
     "execution_count": 37,
     "metadata": {},
     "output_type": "execute_result"
    }
   ],
   "source": [
    "#26 count sub-string in string\n",
    "\n",
    "rep.count(\"a\")\n",
    "rep.count(\"day\")"
   ]
  },
  {
   "cell_type": "code",
   "execution_count": 41,
   "id": "082cdded",
   "metadata": {},
   "outputs": [
    {
     "data": {
      "text/plain": [
       "'Python is getting interesting day by day.'"
      ]
     },
     "execution_count": 41,
     "metadata": {},
     "output_type": "execute_result"
    }
   ],
   "source": [
    "#27 Capitalize method capitalizes the first letter of the string, whereas Title method capitalizes every sub-string of the string.\n",
    "\n",
    "rep.title()\n",
    "rep.capitalize()\n"
   ]
  },
  {
   "cell_type": "code",
   "execution_count": null,
   "id": "932a9425",
   "metadata": {},
   "outputs": [
    {
     "name": "stdout",
     "output_type": "stream",
     "text": [
      "False\n",
      "True\n",
      "True\n"
     ]
    }
   ],
   "source": [
    "#28 \n",
    "\n",
    "check=\"123\"\n",
    "\n",
    "print(check.isalpha())\n",
    "print(check.isdigit())\n",
    "print(check.isalnum())\n",
    "\n"
   ]
  },
  {
   "cell_type": "code",
   "execution_count": 52,
   "id": "25a7b2fe",
   "metadata": {},
   "outputs": [
    {
     "name": "stdout",
     "output_type": "stream",
     "text": [
      "45 <class 'int'>\n",
      "3.54 <class 'float'>\n"
     ]
    }
   ],
   "source": [
    "#29 integer is data type having positive or negative whole number where as float is data type having decimal values.\n",
    "\n",
    "a=45 # int\n",
    "b=3.54 #float\n",
    "\n",
    "print(a,type(a))\n",
    "print(b,type(b))\n",
    "\n",
    "\n"
   ]
  },
  {
   "cell_type": "code",
   "execution_count": 54,
   "id": "c1fa1ce2",
   "metadata": {},
   "outputs": [
    {
     "name": "stdout",
     "output_type": "stream",
     "text": [
      "Addition: 48.54\n",
      "Subtraction: 41.46\n",
      "Division: 12.711864406779661\n",
      "Multiplication: 159.3\n",
      "Mod: 2.5199999999999996\n"
     ]
    }
   ],
   "source": [
    "#30\n",
    "add=a+b\n",
    "sub=a-b\n",
    "div=a/b\n",
    "mult=a*b\n",
    "mod=a%b\n",
    "\n",
    "print(\"Addition:\",add)\n",
    "print(\"Subtraction:\",sub)\n",
    "print(\"Division:\",a/b)\n",
    "print(\"Multiplication:\",mult)\n",
    "print(\"Mod:\",mod)"
   ]
  },
  {
   "cell_type": "code",
   "execution_count": 58,
   "id": "1c65842d",
   "metadata": {},
   "outputs": [
    {
     "name": "stdout",
     "output_type": "stream",
     "text": [
      "Square of 3 is 9\n"
     ]
    }
   ],
   "source": [
    "#31\n",
    "num=int(input(\"Enter the number to be squared\"))\n",
    "sq=num**2\n",
    "print(f\"Square of {num} is {sq}\")"
   ]
  },
  {
   "cell_type": "code",
   "execution_count": null,
   "id": "39a9ec74",
   "metadata": {},
   "outputs": [],
   "source": [
    "#32 type conversion in python is converting a value from one data type to other data type.\n"
   ]
  },
  {
   "cell_type": "code",
   "execution_count": 66,
   "id": "f3f60ae9",
   "metadata": {},
   "outputs": [
    {
     "ename": "ValueError",
     "evalue": "invalid literal for int() with base 10: 'sarthAK'",
     "output_type": "error",
     "traceback": [
      "\u001b[31m---------------------------------------------------------------------------\u001b[39m",
      "\u001b[31mValueError\u001b[39m                                Traceback (most recent call last)",
      "\u001b[36mCell\u001b[39m\u001b[36m \u001b[39m\u001b[32mIn[66]\u001b[39m\u001b[32m, line 6\u001b[39m\n\u001b[32m      4\u001b[39m str3=\u001b[33m\"\u001b[39m\u001b[33msarthAK\u001b[39m\u001b[33m\"\u001b[39m\n\u001b[32m      5\u001b[39m int1= \u001b[38;5;28mint\u001b[39m(str2)\n\u001b[32m----> \u001b[39m\u001b[32m6\u001b[39m int2=\u001b[38;5;28;43mint\u001b[39;49m\u001b[43m(\u001b[49m\u001b[43mstr3\u001b[49m\u001b[43m)\u001b[49m\n\u001b[32m      8\u001b[39m \u001b[38;5;28mprint\u001b[39m(int1)\n\u001b[32m      9\u001b[39m \u001b[38;5;28mprint\u001b[39m(int2)\n",
      "\u001b[31mValueError\u001b[39m: invalid literal for int() with base 10: 'sarthAK'"
     ]
    }
   ],
   "source": [
    "#33 Convert string to Integer.\n",
    "\n",
    "str2=\"33\"\n",
    "str3=\"sarthAK\"\n",
    "int1= int(str2)\n",
    "int2=int(str3)\n",
    "\n",
    "print(int1)\n",
    "print(int2)\n",
    "# we can see that string having alphebets cannot be converted into integer whereas whereas string having numeric values can be converted into integer.\n"
   ]
  },
  {
   "cell_type": "code",
   "execution_count": 1,
   "id": "6f0de37a",
   "metadata": {},
   "outputs": [
    {
     "name": "stdout",
     "output_type": "stream",
     "text": [
      "37.0\n"
     ]
    }
   ],
   "source": [
    "#34 Convert Integer to Float\n",
    "\n",
    "number=37\n",
    "con= float(number)\n",
    "print(con)"
   ]
  },
  {
   "cell_type": "code",
   "execution_count": 2,
   "id": "f8b635a6",
   "metadata": {},
   "outputs": [
    {
     "name": "stdout",
     "output_type": "stream",
     "text": [
      "7\n"
     ]
    }
   ],
   "source": [
    "#35 Convert Float to integer\n",
    "\n",
    "dec=7.93\n",
    "int_con=int(dec)\n",
    "print(int_con)"
   ]
  },
  {
   "cell_type": "code",
   "execution_count": 6,
   "id": "7df327a9",
   "metadata": {},
   "outputs": [
    {
     "name": "stdout",
     "output_type": "stream",
     "text": [
      "<class 'str'> 7.93\n",
      "37 <class 'str'>\n"
     ]
    }
   ],
   "source": [
    "#36 Convert Float, Integer to string\n",
    "\n",
    "con_str=str(dec)\n",
    "print(type(con_str),con_str)\n",
    "con_int=str(number)\n",
    "print(con_int,type(con_int))\n"
   ]
  },
  {
   "cell_type": "code",
   "execution_count": 20,
   "id": "82f27e9d",
   "metadata": {},
   "outputs": [
    {
     "name": "stdout",
     "output_type": "stream",
     "text": [
      "Non-numeric string cannot be converted to float.\n"
     ]
    },
    {
     "ename": "ValueError",
     "evalue": "could not convert string to float: 'singh'",
     "output_type": "error",
     "traceback": [
      "\u001b[31m---------------------------------------------------------------------------\u001b[39m",
      "\u001b[31mValueError\u001b[39m                                Traceback (most recent call last)",
      "\u001b[36mCell\u001b[39m\u001b[36m \u001b[39m\u001b[32mIn[20]\u001b[39m\u001b[32m, line 5\u001b[39m\n\u001b[32m      3\u001b[39m \u001b[38;5;28;01mtry\u001b[39;00m:\n\u001b[32m      4\u001b[39m     non_num=\u001b[33m\"\u001b[39m\u001b[33msingh\u001b[39m\u001b[33m\"\u001b[39m\n\u001b[32m----> \u001b[39m\u001b[32m5\u001b[39m     con_float=\u001b[38;5;28;43mfloat\u001b[39;49m\u001b[43m(\u001b[49m\u001b[43mnon_num\u001b[49m\u001b[43m)\u001b[49m\n\u001b[32m      6\u001b[39m \u001b[38;5;28;01mfinally\u001b[39;00m :\n\u001b[32m      7\u001b[39m     \u001b[38;5;28mprint\u001b[39m(\u001b[33m\"\u001b[39m\u001b[33mNon-numeric string cannot be converted to float.\u001b[39m\u001b[33m\"\u001b[39m)\n",
      "\u001b[31mValueError\u001b[39m: could not convert string to float: 'singh'"
     ]
    }
   ],
   "source": [
    "#37 Non_numeric string cannot be converted to float\n",
    "\n",
    "try:\n",
    "    non_num=\"singh\"\n",
    "    con_float=float(non_num)\n",
    "finally :\n",
    "    print(\"Non-numeric string cannot be converted to float.\")\n",
    "\n",
    "\n",
    "\n"
   ]
  }
 ],
 "metadata": {
  "kernelspec": {
   "display_name": ".venv",
   "language": "python",
   "name": "python3"
  },
  "language_info": {
   "codemirror_mode": {
    "name": "ipython",
    "version": 3
   },
   "file_extension": ".py",
   "mimetype": "text/x-python",
   "name": "python",
   "nbconvert_exporter": "python",
   "pygments_lexer": "ipython3",
   "version": "3.12.7"
  }
 },
 "nbformat": 4,
 "nbformat_minor": 5
}
